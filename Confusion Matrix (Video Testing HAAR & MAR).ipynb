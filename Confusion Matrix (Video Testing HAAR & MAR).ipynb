{
 "cells": [
  {
   "cell_type": "code",
   "execution_count": 93,
   "metadata": {},
   "outputs": [
    {
     "data": {
      "text/html": [
       "<div>\n",
       "<style scoped>\n",
       "    .dataframe tbody tr th:only-of-type {\n",
       "        vertical-align: middle;\n",
       "    }\n",
       "\n",
       "    .dataframe tbody tr th {\n",
       "        vertical-align: top;\n",
       "    }\n",
       "\n",
       "    .dataframe thead th {\n",
       "        text-align: right;\n",
       "    }\n",
       "</style>\n",
       "<table border=\"1\" class=\"dataframe\">\n",
       "  <thead>\n",
       "    <tr style=\"text-align: right;\">\n",
       "      <th></th>\n",
       "      <th>FrameNo</th>\n",
       "      <th>ActualSmile</th>\n",
       "      <th>PredictedSmile</th>\n",
       "    </tr>\n",
       "  </thead>\n",
       "  <tbody>\n",
       "    <tr>\n",
       "      <th>0</th>\n",
       "      <td>1</td>\n",
       "      <td>0</td>\n",
       "      <td>0</td>\n",
       "    </tr>\n",
       "    <tr>\n",
       "      <th>1</th>\n",
       "      <td>2</td>\n",
       "      <td>0</td>\n",
       "      <td>0</td>\n",
       "    </tr>\n",
       "    <tr>\n",
       "      <th>2</th>\n",
       "      <td>3</td>\n",
       "      <td>0</td>\n",
       "      <td>0</td>\n",
       "    </tr>\n",
       "    <tr>\n",
       "      <th>3</th>\n",
       "      <td>4</td>\n",
       "      <td>0</td>\n",
       "      <td>0</td>\n",
       "    </tr>\n",
       "    <tr>\n",
       "      <th>4</th>\n",
       "      <td>5</td>\n",
       "      <td>0</td>\n",
       "      <td>0</td>\n",
       "    </tr>\n",
       "  </tbody>\n",
       "</table>\n",
       "</div>"
      ],
      "text/plain": [
       "   FrameNo  ActualSmile  PredictedSmile\n",
       "0        1            0               0\n",
       "1        2            0               0\n",
       "2        3            0               0\n",
       "3        4            0               0\n",
       "4        5            0               0"
      ]
     },
     "execution_count": 93,
     "metadata": {},
     "output_type": "execute_result"
    }
   ],
   "source": [
    "import pandas as pd\n",
    "import numpy as np\n",
    "import seaborn as sn\n",
    "import matplotlib.pyplot as plt\n",
    "\n",
    "vid_haar = pd.read_csv(\"Haar_Video_Actual_Predicted.csv\") \n",
    "vid_mar = pd.read_csv(\"Mar_Video_Actual_Predicted.csv\") \n",
    "\n",
    "vid_haar.head()"
   ]
  },
  {
   "cell_type": "code",
   "execution_count": 94,
   "metadata": {},
   "outputs": [
    {
     "data": {
      "text/html": [
       "<div>\n",
       "<style scoped>\n",
       "    .dataframe tbody tr th:only-of-type {\n",
       "        vertical-align: middle;\n",
       "    }\n",
       "\n",
       "    .dataframe tbody tr th {\n",
       "        vertical-align: top;\n",
       "    }\n",
       "\n",
       "    .dataframe thead th {\n",
       "        text-align: right;\n",
       "    }\n",
       "</style>\n",
       "<table border=\"1\" class=\"dataframe\">\n",
       "  <thead>\n",
       "    <tr style=\"text-align: right;\">\n",
       "      <th></th>\n",
       "      <th>FrameNo</th>\n",
       "      <th>ActualSmile</th>\n",
       "      <th>PredictedSmile</th>\n",
       "    </tr>\n",
       "  </thead>\n",
       "  <tbody>\n",
       "    <tr>\n",
       "      <th>0</th>\n",
       "      <td>1</td>\n",
       "      <td>0</td>\n",
       "      <td>0</td>\n",
       "    </tr>\n",
       "    <tr>\n",
       "      <th>1</th>\n",
       "      <td>2</td>\n",
       "      <td>0</td>\n",
       "      <td>0</td>\n",
       "    </tr>\n",
       "    <tr>\n",
       "      <th>2</th>\n",
       "      <td>3</td>\n",
       "      <td>0</td>\n",
       "      <td>0</td>\n",
       "    </tr>\n",
       "    <tr>\n",
       "      <th>3</th>\n",
       "      <td>4</td>\n",
       "      <td>0</td>\n",
       "      <td>0</td>\n",
       "    </tr>\n",
       "    <tr>\n",
       "      <th>4</th>\n",
       "      <td>5</td>\n",
       "      <td>0</td>\n",
       "      <td>0</td>\n",
       "    </tr>\n",
       "  </tbody>\n",
       "</table>\n",
       "</div>"
      ],
      "text/plain": [
       "   FrameNo  ActualSmile  PredictedSmile\n",
       "0        1            0               0\n",
       "1        2            0               0\n",
       "2        3            0               0\n",
       "3        4            0               0\n",
       "4        5            0               0"
      ]
     },
     "execution_count": 94,
     "metadata": {},
     "output_type": "execute_result"
    }
   ],
   "source": [
    "vid_mar.head()"
   ]
  },
  {
   "cell_type": "code",
   "execution_count": 95,
   "metadata": {},
   "outputs": [
    {
     "name": "stdout",
     "output_type": "stream",
     "text": [
      "Predicted    0     1\n",
      "Actual              \n",
      "0          674  1169\n",
      "1          175  1273\n"
     ]
    }
   ],
   "source": [
    "haar_confusion_matrix = pd.crosstab(vid_haar['ActualSmile'], vid_haar['PredictedSmile'], rownames=['Actual'], colnames=['Predicted'])\n",
    "print (haar_confusion_matrix)"
   ]
  },
  {
   "cell_type": "code",
   "execution_count": 96,
   "metadata": {},
   "outputs": [],
   "source": [
    "haar_TN = 674\n",
    "haar_FN = 175\n",
    "haar_FP = 1169\n",
    "haar_TP = 1273"
   ]
  },
  {
   "cell_type": "code",
   "execution_count": 97,
   "metadata": {},
   "outputs": [
    {
     "name": "stdout",
     "output_type": "stream",
     "text": [
      "Predicted     0    1\n",
      "Actual              \n",
      "0          1597  246\n",
      "1           565  883\n"
     ]
    }
   ],
   "source": [
    "mar_confusion_matrix = pd.crosstab(vid_mar['ActualSmile'], vid_mar['PredictedSmile'], rownames=['Actual'], colnames=['Predicted'])\n",
    "print (mar_confusion_matrix)"
   ]
  },
  {
   "cell_type": "code",
   "execution_count": 98,
   "metadata": {},
   "outputs": [],
   "source": [
    "mar_TN = 1597\n",
    "mar_FN = 565\n",
    "mar_FP = 246\n",
    "mar_TP = 883"
   ]
  },
  {
   "cell_type": "code",
   "execution_count": 99,
   "metadata": {},
   "outputs": [
    {
     "data": {
      "image/png": "[encoded data removed]",
      "text/plain": [
       "<Figure size 432x288 with 2 Axes>"
      ]
     },
     "metadata": {
      "needs_background": "light"
     },
     "output_type": "display_data"
    }
   ],
   "source": [
    "sn.heatmap(haar_confusion_matrix, annot=True, fmt='d')\n",
    "plt.show()"
   ]
  },
  {
   "cell_type": "code",
   "execution_count": 101,
   "metadata": {},
   "outputs": [
    {
     "data": {
      "image/png": "[encoded data removed]",
      "text/plain": [
       "<Figure size 432x288 with 2 Axes>"
      ]
     },
     "metadata": {
      "needs_background": "light"
     },
     "output_type": "display_data"
    }
   ],
   "source": [
    "sn.heatmap(mar_confusion_matrix, annot=True, fmt='d')\n",
    "plt.show()"
   ]
  },
  {
   "cell_type": "code",
   "execution_count": 102,
   "metadata": {},
   "outputs": [],
   "source": [
    "population = 3291 #total frames in video\n",
    "\n",
    "haar_accuracy = (haar_TP + haar_TN) / population\n",
    "haar_precision = haar_TP / (haar_TP + haar_FP)\n",
    "haar_recall = haar_TP / (haar_TP + haar_FN)\n",
    "if (haar_precision + haar_recall) == 0:\n",
    "    haar_f1_score = 0.0\n",
    "else:\n",
    "    haar_f1_score = 2 * (haar_precision * haar_recall) / (haar_precision + haar_recall)\n",
    "\n",
    "\n",
    "mar_accuracy = (mar_TP + mar_TN) / population\n",
    "mar_precision = mar_TP / (mar_TP + mar_FP)\n",
    "mar_recall = mar_TP / (mar_TP + mar_FN)\n",
    "mar_f1_score = 2 * (mar_precision * mar_recall) / (mar_precision + mar_recall)"
   ]
  },
  {
   "cell_type": "code",
   "execution_count": 103,
   "metadata": {},
   "outputs": [
    {
     "name": "stdout",
     "output_type": "stream",
     "text": [
      "Accuracy HAAR (Video): 0.5916134913400183\n",
      "Precision HAAR (Video): 0.5212940212940212\n",
      "Recall HAAR (Video): 0.8791436464088398\n",
      "F1-Score HAAR (Video): 0.6544987146529563\n",
      " \n",
      "Accuracy MAR (Video): 0.7535703433606806\n",
      "Precision MAR (Video): 0.7821080602302923\n",
      "Recall MAR (Video): 0.6098066298342542\n",
      "F1-Score MAR (Video): 0.6852929763290648\n"
     ]
    }
   ],
   "source": [
    "print(\"Accuracy HAAR (Video): \" + str(haar_accuracy))\n",
    "print(\"Precision HAAR (Video): \" + str(haar_precision))\n",
    "print(\"Recall HAAR (Video): \" + str(haar_recall))\n",
    "print(\"F1-Score HAAR (Video): \" + str(haar_f1_score))\n",
    "print(\" \")\n",
    "print(\"Accuracy MAR (Video): \" + str(mar_accuracy))\n",
    "print(\"Precision MAR (Video): \" + str(mar_precision))\n",
    "print(\"Recall MAR (Video): \" + str(mar_recall))\n",
    "print(\"F1-Score MAR (Video): \" + str(mar_f1_score))"
   ]
  },
  {
   "cell_type": "code",
   "execution_count": 104,
   "metadata": {},
   "outputs": [],
   "source": [
    "#!pip install pandas_ml"
   ]
  },
  {
   "cell_type": "code",
   "execution_count": 105,
   "metadata": {},
   "outputs": [
    {
     "name": "stdout",
     "output_type": "stream",
     "text": [
      "population: 3291\n",
      "P: 1448\n",
      "N: 1843\n",
      "PositiveTest: 2442\n",
      "NegativeTest: 849\n",
      "TP: 1273\n",
      "TN: 674\n",
      "FP: 1169\n",
      "FN: 175\n",
      "TPR: 0.8791436464088398\n",
      "TNR: 0.3657080846446012\n",
      "PPV: 0.5212940212940212\n",
      "NPV: 0.7938751472320377\n",
      "FPR: 0.6342919153553989\n",
      "FDR: 0.4787059787059787\n",
      "FNR: 0.12085635359116022\n",
      "ACC: 0.5916134913400183\n",
      "F1_score: 0.6544987146529563\n",
      "MCC: 0.2777943780717659\n",
      "informedness: 0.24485173105344105\n",
      "markedness: 0.3151691685260589\n",
      "prevalence: 0.43998784563962323\n",
      "LRP: 1.3860237299670586\n",
      "LRN: 0.33047219535386985\n",
      "DOR: 4.19407063424172\n",
      "FOR: 0.2061248527679623\n"
     ]
    }
   ],
   "source": [
    "from pandas_ml import ConfusionMatrix\n",
    "\n",
    "Haar_Confusion_Matrix = ConfusionMatrix(vid_haar['ActualSmile'], vid_haar['PredictedSmile'])\n",
    "Haar_Confusion_Matrix.print_stats()"
   ]
  },
  {
   "cell_type": "code",
   "execution_count": 106,
   "metadata": {},
   "outputs": [
    {
     "name": "stdout",
     "output_type": "stream",
     "text": [
      "population: 3291\n",
      "P: 1448\n",
      "N: 1843\n",
      "PositiveTest: 1129\n",
      "NegativeTest: 2162\n",
      "TP: 883\n",
      "TN: 1597\n",
      "FP: 246\n",
      "FN: 565\n",
      "TPR: 0.6098066298342542\n",
      "TNR: 0.8665219750406945\n",
      "PPV: 0.7821080602302923\n",
      "NPV: 0.7386679000925069\n",
      "FPR: 0.13347802495930547\n",
      "FDR: 0.2178919397697077\n",
      "FNR: 0.39019337016574585\n",
      "ACC: 0.7535703433606806\n",
      "F1_score: 0.6852929763290648\n",
      "MCC: 0.498056710257949\n",
      "informedness: 0.47632860487494866\n",
      "markedness: 0.5207759603227993\n",
      "prevalence: 0.43998784563962323\n",
      "LRP: 4.56859194627858\n",
      "LRN: 0.45029829756760775\n",
      "DOR: 10.14570112957767\n",
      "FOR: 0.26133209990749307\n"
     ]
    }
   ],
   "source": [
    "Mar_Confusion_Matrix = ConfusionMatrix(vid_mar['ActualSmile'], vid_mar['PredictedSmile'])\n",
    "Mar_Confusion_Matrix.print_stats()"
   ]
  },
  {
   "cell_type": "code",
   "execution_count": 107,
   "metadata": {},
   "outputs": [
    {
     "data": {
      "text/plain": [
       "Text(0.5, 0, 'Methods')"
      ]
     },
     "execution_count": 107,
     "metadata": {},
     "output_type": "execute_result"
    },
    {
     "data": {
      "image/png": "[encoded data removed]",
      "text/plain": [
       "<Figure size 432x288 with 1 Axes>"
      ]
     },
     "metadata": {
      "needs_background": "light"
     },
     "output_type": "display_data"
    }
   ],
   "source": [
    "haar_vs_maar_img = pd.DataFrame({\n",
    "    \"Haar\":[haar_accuracy, haar_precision, haar_recall, haar_f1_score],\n",
    "    \"MAR\":[mar_accuracy, mar_precision, mar_recall, mar_f1_score],\n",
    "    }, \n",
    "    index=[\"Accuracy\", \"Precision\", \"Recall\", \"F1-Score\"]\n",
    ")\n",
    "\n",
    "haar_vs_maar_img.plot(kind=\"bar\")\n",
    "plt.title(\"Comparison of Evaluation Metrics (Video Testing: Haar Vs MAR)\")\n",
    "plt.xlabel(\"Methods\")\n",
    "#plt.ylabel(\"Pies Consumed\")"
   ]
  }
 ],
 "metadata": {
  "kernelspec": {
   "display_name": "Python 3",
   "language": "python",
   "name": "python3"
  },
  "language_info": {
   "codemirror_mode": {
    "name": "ipython",
    "version": 3
   },
   "file_extension": ".py",
   "mimetype": "text/x-python",
   "name": "python",
   "nbconvert_exporter": "python",
   "pygments_lexer": "ipython3",
   "version": "3.7.1"
  }
 },
 "nbformat": 4,
 "nbformat_minor": 2
}
