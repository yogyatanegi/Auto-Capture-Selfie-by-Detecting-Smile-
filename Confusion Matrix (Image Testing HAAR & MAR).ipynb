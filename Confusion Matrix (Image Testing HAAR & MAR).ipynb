{
 "cells": [
  {
   "cell_type": "code",
   "execution_count": 62,
   "metadata": {},
   "outputs": [
    {
     "data": {
      "text/html": [
       "<div>\n",
       "<style scoped>\n",
       "    .dataframe tbody tr th:only-of-type {\n",
       "        vertical-align: middle;\n",
       "    }\n",
       "\n",
       "    .dataframe tbody tr th {\n",
       "        vertical-align: top;\n",
       "    }\n",
       "\n",
       "    .dataframe thead th {\n",
       "        text-align: right;\n",
       "    }\n",
       "</style>\n",
       "<table border=\"1\" class=\"dataframe\">\n",
       "  <thead>\n",
       "    <tr style=\"text-align: right;\">\n",
       "      <th></th>\n",
       "      <th>ImgNo</th>\n",
       "      <th>ActualSmile</th>\n",
       "      <th>PredictedSmile</th>\n",
       "    </tr>\n",
       "  </thead>\n",
       "  <tbody>\n",
       "    <tr>\n",
       "      <th>0</th>\n",
       "      <td>100</td>\n",
       "      <td>1</td>\n",
       "      <td>0</td>\n",
       "    </tr>\n",
       "    <tr>\n",
       "      <th>1</th>\n",
       "      <td>1000</td>\n",
       "      <td>1</td>\n",
       "      <td>0</td>\n",
       "    </tr>\n",
       "    <tr>\n",
       "      <th>2</th>\n",
       "      <td>10007</td>\n",
       "      <td>1</td>\n",
       "      <td>0</td>\n",
       "    </tr>\n",
       "    <tr>\n",
       "      <th>3</th>\n",
       "      <td>10009</td>\n",
       "      <td>1</td>\n",
       "      <td>0</td>\n",
       "    </tr>\n",
       "    <tr>\n",
       "      <th>4</th>\n",
       "      <td>10011</td>\n",
       "      <td>1</td>\n",
       "      <td>0</td>\n",
       "    </tr>\n",
       "  </tbody>\n",
       "</table>\n",
       "</div>"
      ],
      "text/plain": [
       "   ImgNo  ActualSmile  PredictedSmile\n",
       "0    100            1               0\n",
       "1   1000            1               0\n",
       "2  10007            1               0\n",
       "3  10009            1               0\n",
       "4  10011            1               0"
      ]
     },
     "execution_count": 62,
     "metadata": {},
     "output_type": "execute_result"
    }
   ],
   "source": [
    "import pandas as pd\n",
    "import numpy as np\n",
    "import seaborn as sn\n",
    "import matplotlib.pyplot as plt\n",
    "\n",
    "img_haar = pd.read_csv(\"Haar_Image_Actual_Predicted.csv\") \n",
    "img_mar = pd.read_csv(\"Mar_Image_Actual_Predicted.csv\") \n",
    "\n",
    "img_haar.head()"
   ]
  },
  {
   "cell_type": "code",
   "execution_count": 63,
   "metadata": {},
   "outputs": [
    {
     "data": {
      "text/html": [
       "<div>\n",
       "<style scoped>\n",
       "    .dataframe tbody tr th:only-of-type {\n",
       "        vertical-align: middle;\n",
       "    }\n",
       "\n",
       "    .dataframe tbody tr th {\n",
       "        vertical-align: top;\n",
       "    }\n",
       "\n",
       "    .dataframe thead th {\n",
       "        text-align: right;\n",
       "    }\n",
       "</style>\n",
       "<table border=\"1\" class=\"dataframe\">\n",
       "  <thead>\n",
       "    <tr style=\"text-align: right;\">\n",
       "      <th></th>\n",
       "      <th>ImgNo</th>\n",
       "      <th>ActualSmile</th>\n",
       "      <th>PredictedSmile</th>\n",
       "    </tr>\n",
       "  </thead>\n",
       "  <tbody>\n",
       "    <tr>\n",
       "      <th>0</th>\n",
       "      <td>100</td>\n",
       "      <td>1</td>\n",
       "      <td>0</td>\n",
       "    </tr>\n",
       "    <tr>\n",
       "      <th>1</th>\n",
       "      <td>1000</td>\n",
       "      <td>1</td>\n",
       "      <td>0</td>\n",
       "    </tr>\n",
       "    <tr>\n",
       "      <th>2</th>\n",
       "      <td>10007</td>\n",
       "      <td>1</td>\n",
       "      <td>0</td>\n",
       "    </tr>\n",
       "    <tr>\n",
       "      <th>3</th>\n",
       "      <td>10009</td>\n",
       "      <td>1</td>\n",
       "      <td>0</td>\n",
       "    </tr>\n",
       "    <tr>\n",
       "      <th>4</th>\n",
       "      <td>10011</td>\n",
       "      <td>1</td>\n",
       "      <td>0</td>\n",
       "    </tr>\n",
       "  </tbody>\n",
       "</table>\n",
       "</div>"
      ],
      "text/plain": [
       "   ImgNo  ActualSmile  PredictedSmile\n",
       "0    100            1               0\n",
       "1   1000            1               0\n",
       "2  10007            1               0\n",
       "3  10009            1               0\n",
       "4  10011            1               0"
      ]
     },
     "execution_count": 63,
     "metadata": {},
     "output_type": "execute_result"
    }
   ],
   "source": [
    "img_mar.head()"
   ]
  },
  {
   "cell_type": "code",
   "execution_count": 64,
   "metadata": {},
   "outputs": [
    {
     "name": "stdout",
     "output_type": "stream",
     "text": [
      "Predicted     0    1\n",
      "Actual              \n",
      "0          9459   16\n",
      "1          3586  104\n"
     ]
    }
   ],
   "source": [
    "haar_confusion_matrix = pd.crosstab(img_haar['ActualSmile'], img_haar['PredictedSmile'], rownames=['Actual'], colnames=['Predicted'])\n",
    "print (haar_confusion_matrix)"
   ]
  },
  {
   "cell_type": "code",
   "execution_count": 65,
   "metadata": {},
   "outputs": [],
   "source": [
    "haar_TN = 9459\n",
    "haar_FN = 3586\n",
    "haar_FP = 16\n",
    "haar_TP = 104"
   ]
  },
  {
   "cell_type": "code",
   "execution_count": 66,
   "metadata": {},
   "outputs": [
    {
     "name": "stdout",
     "output_type": "stream",
     "text": [
      "Predicted     0     1\n",
      "Actual               \n",
      "0          5033  4442\n",
      "1          2536  1154\n"
     ]
    }
   ],
   "source": [
    "mar_confusion_matrix = pd.crosstab(img_mar['ActualSmile'], img_mar['PredictedSmile'], rownames=['Actual'], colnames=['Predicted'])\n",
    "print (mar_confusion_matrix)"
   ]
  },
  {
   "cell_type": "code",
   "execution_count": 67,
   "metadata": {},
   "outputs": [],
   "source": [
    "mar_TN = 5033\n",
    "mar_FN = 2536\n",
    "mar_FP = 4442\n",
    "mar_TP = 1154"
   ]
  },
  {
   "cell_type": "code",
   "execution_count": 68,
   "metadata": {},
   "outputs": [
    {
     "data": {
      "image/png": "[encoded data removed]",
      "text/plain": [
       "<Figure size 432x288 with 2 Axes>"
      ]
     },
     "metadata": {
      "needs_background": "light"
     },
     "output_type": "display_data"
    }
   ],
   "source": [
    "sn.heatmap(haar_confusion_matrix, annot=True, fmt='d')\n",
    "plt.show()"
   ]
  },
  {
   "cell_type": "code",
   "execution_count": 69,
   "metadata": {},
   "outputs": [
    {
     "data": {
      "image/png": "[encoded data removed]",
      "text/plain": [
       "<Figure size 432x288 with 2 Axes>"
      ]
     },
     "metadata": {
      "needs_background": "light"
     },
     "output_type": "display_data"
    }
   ],
   "source": [
    "sn.heatmap(mar_confusion_matrix, annot=True, fmt='d')\n",
    "plt.show()"
   ]
  },
  {
   "cell_type": "code",
   "execution_count": 70,
   "metadata": {},
   "outputs": [],
   "source": [
    "population = 13165 #total positive n negative dataset\n",
    "\n",
    "haar_accuracy = (haar_TP + haar_TN) / population\n",
    "haar_precision = haar_TP / (haar_TP + haar_FP)\n",
    "haar_recall = haar_TP / (haar_TP + haar_FN)\n",
    "if (haar_precision + haar_recall) == 0:\n",
    "    haar_f1_score = 0.0\n",
    "else:\n",
    "    haar_f1_score = 2 * (haar_precision * haar_recall) / (haar_precision + haar_recall)\n",
    "\n",
    "\n",
    "mar_accuracy = (mar_TP + mar_TN) / population\n",
    "mar_precision = mar_TP / (mar_TP + mar_FP)\n",
    "mar_recall = mar_TP / (mar_TP + mar_FN)\n",
    "mar_f1_score = 2 * (mar_precision * mar_recall) / (mar_precision + mar_recall)"
   ]
  },
  {
   "cell_type": "code",
   "execution_count": 71,
   "metadata": {},
   "outputs": [
    {
     "name": "stdout",
     "output_type": "stream",
     "text": [
      "Accuracy HAAR (Image): 0.7263957462969997\n",
      "Precision HAAR (Image): 0.8666666666666667\n",
      "Recall HAAR (Image): 0.028184281842818428\n",
      "F1-Score HAAR (Image): 0.05459317585301837\n",
      " \n",
      "Accuracy MAR (Image): 0.4699582225598177\n",
      "Precision MAR (Image): 0.20621872766261615\n",
      "Recall MAR (Image): 0.31273712737127374\n",
      "F1-Score MAR (Image): 0.24854619857850527\n"
     ]
    }
   ],
   "source": [
    "print(\"Accuracy HAAR (Image): \" + str(haar_accuracy))\n",
    "print(\"Precision HAAR (Image): \" + str(haar_precision))\n",
    "print(\"Recall HAAR (Image): \" + str(haar_recall))\n",
    "print(\"F1-Score HAAR (Image): \" + str(haar_f1_score))\n",
    "print(\" \")\n",
    "print(\"Accuracy MAR (Image): \" + str(mar_accuracy))\n",
    "print(\"Precision MAR (Image): \" + str(mar_precision))\n",
    "print(\"Recall MAR (Image): \" + str(mar_recall))\n",
    "print(\"F1-Score MAR (Image): \" + str(mar_f1_score))"
   ]
  },
  {
   "cell_type": "code",
   "execution_count": 72,
   "metadata": {},
   "outputs": [
    {
     "name": "stdout",
     "output_type": "stream",
     "text": [
      "population: 13165\n",
      "P: 3690\n",
      "N: 9475\n",
      "PositiveTest: 120\n",
      "NegativeTest: 13045\n",
      "TP: 104\n",
      "TN: 9459\n",
      "FP: 16\n",
      "FN: 3586\n",
      "TPR: 0.028184281842818428\n",
      "TNR: 0.998311345646438\n",
      "PPV: 0.8666666666666667\n",
      "NPV: 0.7251054043694902\n",
      "FPR: 0.0016886543535620053\n",
      "FDR: 0.13333333333333333\n",
      "FNR: 0.9718157181571816\n",
      "ACC: 0.7263957462969997\n",
      "F1_score: 0.05459317585301837\n",
      "MCC: 0.125217300532793\n",
      "informedness: 0.02649562748925649\n",
      "markedness: 0.5917720710361569\n",
      "prevalence: 0.28028864413216864\n",
      "LRP: 16.690379403794037\n",
      "LRN: 0.9734595548725337\n",
      "DOR: 17.14542665923034\n",
      "FOR: 0.2748945956305098\n"
     ]
    }
   ],
   "source": [
    "from pandas_ml import ConfusionMatrix\n",
    "\n",
    "Haar_Confusion_Matrix = ConfusionMatrix(img_haar['ActualSmile'], img_haar['PredictedSmile'])\n",
    "Haar_Confusion_Matrix.print_stats()"
   ]
  },
  {
   "cell_type": "code",
   "execution_count": 73,
   "metadata": {},
   "outputs": [
    {
     "name": "stdout",
     "output_type": "stream",
     "text": [
      "population: 13165\n",
      "P: 3690\n",
      "N: 9475\n",
      "PositiveTest: 5596\n",
      "NegativeTest: 7569\n",
      "TP: 1154\n",
      "TN: 5033\n",
      "FP: 4442\n",
      "FN: 2536\n",
      "TPR: 0.31273712737127374\n",
      "TNR: 0.5311873350923483\n",
      "PPV: 0.20621872766261615\n",
      "NPV: 0.6649491346280882\n",
      "FPR: 0.4688126649076517\n",
      "FDR: 0.7937812723373838\n",
      "FNR: 0.6872628726287263\n",
      "ACC: 0.4699582225598177\n",
      "F1_score: 0.24854619857850527\n",
      "MCC: -0.1418010759653783\n",
      "informedness: -0.15607553753637804\n",
      "markedness: -0.12883213770929558\n",
      "prevalence: 0.28028864413216864\n",
      "LRP: 0.6670833592622284\n",
      "LRN: 1.2938239058528078\n",
      "DOR: 0.515590534573195\n",
      "FOR: 0.33505086537191175\n"
     ]
    }
   ],
   "source": [
    "Mar_Confusion_Matrix = ConfusionMatrix(img_mar['ActualSmile'], img_mar['PredictedSmile'])\n",
    "Mar_Confusion_Matrix.print_stats()"
   ]
  },
  {
   "cell_type": "code",
   "execution_count": 76,
   "metadata": {},
   "outputs": [
    {
     "data": {
      "text/plain": [
       "Text(0.5, 0, 'Methods')"
      ]
     },
     "execution_count": 76,
     "metadata": {},
     "output_type": "execute_result"
    },
    {
     "data": {
      "image/png": "[encoded data removed]",
      "text/plain": [
       "<Figure size 432x288 with 1 Axes>"
      ]
     },
     "metadata": {
      "needs_background": "light"
     },
     "output_type": "display_data"
    }
   ],
   "source": [
    "haar_vs_maar_img = pd.DataFrame({\n",
    "    \"Haar\":[haar_accuracy, haar_precision, haar_recall, haar_f1_score],\n",
    "    \"MAR\":[mar_accuracy, mar_precision, mar_recall, mar_f1_score],\n",
    "    }, \n",
    "    index=[\"Accuracy\", \"Precision\", \"Recall\", \"F1-Score\"]\n",
    ")\n",
    "\n",
    "haar_vs_maar_img.plot(kind=\"bar\")\n",
    "plt.title(\"Comparison of Evaluation Metrics (Image Testing: Haar Vs MAR)\")\n",
    "plt.xlabel(\"Methods\")"
   ]
  }
 ],
 "metadata": {
  "kernelspec": {
   "display_name": "Python 3",
   "language": "python",
   "name": "python3"
  },
  "language_info": {
   "codemirror_mode": {
    "name": "ipython",
    "version": 3
   },
   "file_extension": ".py",
   "mimetype": "text/x-python",
   "name": "python",
   "nbconvert_exporter": "python",
   "pygments_lexer": "ipython3",
   "version": "3.7.1"
  }
 },
 "nbformat": 4,
 "nbformat_minor": 2
}
